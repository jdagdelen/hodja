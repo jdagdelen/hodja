{
 "cells": [
  {
   "cell_type": "code",
   "execution_count": 3,
   "metadata": {},
   "outputs": [
    {
     "name": "stdout",
     "output_type": "stream",
     "text": [
      "You are a polite, thoughtful, and resourceful general purpose AI. \n",
      "\n",
      "Tools - You can use the following tools. The tool name is listed first and a description is listed after the colon.\n",
      "* Search: Search for documents based on a query. Returns a list of documents that best match the query.\n",
      "\n",
      "To employ a tool, use following format:\n",
      "    Action: <tool name>[<tool input>]\n",
      "\n",
      "Note: You MUST use the tool's name (as provided above) in order to use a tool.\n",
      "    \n",
      "Instructions\n",
      "------------\n",
      "You work in a thought-action-observation cycle. In each cycle, you:\n",
      "    1. Think about the problem and how to solve it.\n",
      "    2. Perform an action. You can use one of the tools or return a final response with `RETURN[<final answer>]. You can only use one tool at a time.\n",
      "    3. Observe the result of your action. This will be the output from any tool you used, or the final answer if you returned a final answer.\n",
      "    4. Repeat steps 1-3 until you have a final answer in the observation.\n",
      "\n",
      "Use the following format:\n",
      "\n",
      "    Thought: <a thought>\n",
      "    Action: <tool name>[<tool input>] (or RETURN[<final answer>])\n",
      "    Observation: <action result>\n",
      "    Thought: <a thought>\n",
      "    Action: <tool name>[<tool input>] (or RETURN[<final answer>])\n",
      "    Observation: <action result>\n",
      "    ...\n",
      "\n",
      "Example 1 (no tool needed):\n",
      "    ```\n",
      "    User Input: What is captial of France?\n",
      "    Tools Available: ()\n",
      "    Thought: I know that Paris is the capital of France.\n",
      "    Action: RETURN[Paris]\n",
      "    Observation: Paris\n",
      "    ```\n",
      "\n",
      "Example 2 (tool needed):\n",
      "    In this example, assume that a Weather tool is available.\n",
      "    ```\n",
      "    User Input: What is the weather in Paris?\n",
      "    Tools Available: (Weather)\n",
      "    Thought: I need to use the Weather tool to get the weather in Paris.\n",
      "    Action: Weather[Paris]\n",
      "    Observation: ('city': 'Paris', 'country': 'France', 'temperature': 20, 'weather': 'sunny')\n",
      "    Thought: I now know that it is 20 degrees and sunny in Paris.\n",
      "    Action: RETURN[It is 20 degrees and sunny in Paris]\n",
      "    Observation: It is 20 degrees and sunny in Paris.\n",
      "    ```\n",
      "    Note: the above is just an example. The Weather tool may not actually be available. Only use tools listed in the Tools Avaliable section.\n",
      "\n",
      "Extra notes:\n",
      "If a math or code tool is available, do not do any math yourself. Use Tools to evaluate math expressions.\n",
      "\n",
      "Begin!\n",
      "\n",
      "User Input: Tell me about Nasreddin hodja.\n",
      "Tools Available: ('Search')\n",
      "Thought:  I need to use the Search tool to find information about Nasreddin hodja.\n",
      "Action:  Search[Nasreddin hodja]\n",
      "Observation: [Document({'text': 'Nasreddin hodja lived in what is modern day Turkey.', 'id': 1}), Document({'text': 'Nasreddin hodja was a very wise old man whom many people counted on for advice.', 'id': 3}), Document({'text': 'A man once asked for a glass of water.', 'id': 2}), Document({'text': 'Python is a great programming language.', 'id': 4})]\n",
      "Thought:  I now have a list of documents that contain information about Nasreddin hodja.\n",
      "Action:   RETURN[Nasreddin hodja was a wise old man who lived in what is modern day Turkey and was often asked for advice.]\n",
      "Observation: Nasreddin hodja was a wise old man who lived in what is modern day Turkey and was often asked for advice.\n"
     ]
    },
    {
     "data": {
      "text/plain": [
       "'Nasreddin hodja was a wise old man who lived in what is modern day Turkey and was often asked for advice.'"
      ]
     },
     "execution_count": 3,
     "metadata": {},
     "output_type": "execute_result"
    }
   ],
   "source": [
    "from hodja import Chain\n",
    "from hodja.links.react import ReACTLink\n",
    "from hodja.search import Document, FAISS\n",
    "from hodja.search.embeddings.openai import OpenAIEmbeddings\n",
    "from hodja.tools.search_tools import SearchTool\n",
    "\n",
    "test_documents = [\n",
    "    Document(text=\"Nasreddin hodja lived in what is modern day Turkey.\", id=1),\n",
    "    Document(text=\"A man once asked for a glass of water.\", id=2),\n",
    "    Document(text=\"Nasreddin hodja was a very wise old man whom many people counted on for advice.\", id=3),\n",
    "    Document(text=\"Python is a great programming language.\", id=4),\n",
    "]\n",
    "\n",
    "embeddings = OpenAIEmbeddings()\n",
    "db = FAISS(embeddings=embeddings)\n",
    "db.add(test_documents)\n",
    "search_tool = SearchTool(db)\n",
    "\n",
    "tools = [search_tool]\n",
    "links = [ReACTLink(tools=tools)]\n",
    "chain = Chain(\"ReACT\", links=links)\n",
    "chain.run(\"Tell me about Nasreddin hodja.\", debug=True)"
   ]
  },
  {
   "cell_type": "code",
   "execution_count": null,
   "metadata": {},
   "outputs": [],
   "source": []
  }
 ],
 "metadata": {
  "kernelspec": {
   "display_name": "figtree",
   "language": "python",
   "name": "python3"
  },
  "language_info": {
   "codemirror_mode": {
    "name": "ipython",
    "version": 3
   },
   "file_extension": ".py",
   "mimetype": "text/x-python",
   "name": "python",
   "nbconvert_exporter": "python",
   "pygments_lexer": "ipython3",
   "version": "3.9.16"
  },
  "orig_nbformat": 4
 },
 "nbformat": 4,
 "nbformat_minor": 2
}
