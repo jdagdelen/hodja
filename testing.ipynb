{
 "cells": [
  {
   "cell_type": "code",
   "execution_count": null,
   "metadata": {},
   "outputs": [],
   "source": [
    "# write a few test documents with a sentence for each. They should all be very different\n",
    "from hodja.search import Document, FAISS\n",
    "from hodja.search.embeddings.openai import OpenAIEmbeddings\n",
    "from hodja.tools.search_tools import SearchTool\n",
    "\n",
    "test_documents = [\n",
    "    Document(text=\"This is a test document.\", id=1),\n",
    "    Document(text=\"A man once asked for a glass of water.\", id=2),\n",
    "    Document(text=\"The man was thirsty.\", id=3),\n",
    "    Document(text=\"This is another test document.\", id=4),\n",
    "]\n",
    "\n",
    "embeddings = OpenAIEmbeddings()\n",
    "db = FAISS(embeddings=embeddings)\n",
    "\n",
    "db.add(test_documents)\n",
    "\n",
    "search_tool = SearchTool(db)"
   ]
  },
  {
   "cell_type": "code",
   "execution_count": 2,
   "metadata": {},
   "outputs": [
    {
     "data": {
      "text/plain": [
       "Search: Search for documents based on a query. Returns a list of documents that best match the query."
      ]
     },
     "execution_count": 2,
     "metadata": {},
     "output_type": "execute_result"
    }
   ],
   "source": [
    "search_tool"
   ]
  },
  {
   "cell_type": "code",
   "execution_count": 9,
   "metadata": {},
   "outputs": [],
   "source": [
    "from hodja.agents.openai import OpenAIAgent"
   ]
  },
  {
   "cell_type": "code",
   "execution_count": 1,
   "metadata": {},
   "outputs": [],
   "source": [
    "\"\"\"Classes for interacting with OpenAI's API.\"\"\"\n",
    "import os\n",
    "from hodja.agents.base import Agent\n",
    "import openai\n",
    "from collections import defaultdict\n",
    "\n",
    "# create default dict of context sizes\n",
    "CONTEXT_SIZES = defaultdict(lambda: 2048)\n",
    "_defaults = {\n",
    "    \"text-davinci-003\": 4097,\n",
    "    \"text-curie-001\": 2048,\n",
    "    \"text-babbage-001\": 2048,\n",
    "    \"text-ada-001\": 2048,\n",
    "    \"code-davinci-002\": 8000,\n",
    "    \"code-cushman-001\": 2048,\n",
    "}\n",
    "for k, v in _defaults.items():\n",
    "    CONTEXT_SIZES[k] = v\n",
    "\n",
    "class OpenAIAgent(Agent):\n",
    "    \n",
    "    def __init__(\n",
    "        self, \n",
    "        name='OpenAI Agent',\n",
    "        api_key=os.getenv('OPENAI_API_KEY'),\n",
    "        engine='text-davinci-003',\n",
    "        temperature=0.0,\n",
    "        max_tokens=500,\n",
    "        top_p=1,\n",
    "        frequency_penalty=0,\n",
    "        presence_penalty=0,\n",
    "        stop=['\\n\\n',],\n",
    "        streaming=False\n",
    "        ):\n",
    "        super().__init__(name=name)\n",
    "        self.api_key = api_key\n",
    "        self.engine = engine\n",
    "        self.context_size = CONTEXT_SIZES[self.engine]\n",
    "        self.temperature = temperature\n",
    "        self.max_tokens = max_tokens\n",
    "        self.top_p = top_p\n",
    "        self.frequency_penalty = frequency_penalty\n",
    "        self.presence_penalty = presence_penalty\n",
    "        self.stop = stop\n",
    "        self.streaming = streaming\n",
    "\n",
    "    def prepare_prompt_string(self, prompt, state, tools):\n",
    "        \"\"\"Formats the prompts with information from state\"\"\"\n",
    "        return prompt.format(**state, tools=tools)\n",
    "\n",
    "    def __call__(self, prompt, state, tools=[]):\n",
    "        prompt_string = self.prepare_prompt_string(prompt, state, tools)\n",
    "        if len(prompt_string) + self.max_tokens > self.context_size:\n",
    "            raise ValueError(\n",
    "                f\"Prompt length ({len(prompt_string)}) + max_tokens ({self.max_tokens}) \"\n",
    "                f\"exceeds maximum context size ({self.context_size}).\"\n",
    "            )\n",
    "        results = openai.Completion.create(\n",
    "            prompt=prompt_string,\n",
    "            engine=self.engine,\n",
    "            temperature=self.temperature,\n",
    "            max_tokens=self.max_tokens,\n",
    "            top_p=self.top_p,\n",
    "            frequency_penalty=self.frequency_penalty,\n",
    "            presence_penalty=self.presence_penalty,\n",
    "            stop=self.stop,\n",
    "            stream=self.streaming\n",
    "        )\n",
    "        output = {\n",
    "            'prompt': prompt,\n",
    "            'completion': results.choices[0].text,\n",
    "        }\n",
    "        return output\n",
    "\n",
    "agent = OpenAIAgent()"
   ]
  },
  {
   "cell_type": "code",
   "execution_count": 36,
   "metadata": {},
   "outputs": [],
   "source": [
    "prompt = \"\"\"You are Assistant. Your job is to follow these instructions.\n",
    "\n",
    "INSTRUCTIONS\n",
    "Please repeat the following text inside the ``` block back exactly as it is written:\n",
    "\n",
    "```\n",
    "user_input: {user_input}\n",
    "tools: {tools}\n",
    "```\n",
    "END OF INSTRUCTIONS\n",
    "\n",
    "You can now start your work.\n",
    "\n",
    "Assistant Response:\n",
    "\"\"\"\n",
    "\n",
    "tools = [\"Search\", \"Math\"]"
   ]
  },
  {
   "cell_type": "code",
   "execution_count": 37,
   "metadata": {},
   "outputs": [
    {
     "data": {
      "text/plain": [
       "{'prompt': 'You are Assistant. Your job is to follow these instructions.\\n\\nINSTRUCTIONS\\nPlease repeat the following text inside the ``` block back exactly as it is written:\\n\\n```\\nuser_input: {user_input}\\ntools: {tools}\\n```\\nEND OF INSTRUCTIONS\\n\\nYou can now start your work.\\n\\nAssistant Response:\\n',\n",
       " 'completion': \"```\\nuser_input: This is a test document.\\ntools: ['Search', 'Math']\\n```\"}"
      ]
     },
     "execution_count": 37,
     "metadata": {},
     "output_type": "execute_result"
    }
   ],
   "source": [
    "agent(prompt, {\"user_input\": \"This is a test document.\"}, tools)"
   ]
  },
  {
   "cell_type": "code",
   "execution_count": 2,
   "metadata": {},
   "outputs": [
    {
     "name": "stdout",
     "output_type": "stream",
     "text": [
      "You are a polite, thoughtful, and resourceful general purpose AI. \n",
      "\n",
      "Tools - You can use the following tools. The tool name is listed first and a description is listed after the colon.\n",
      "* Math: Evaluate a math expression. Note: only numbers and basic operators (e.g. +-*/) are allowed.\n",
      "* Fibonacci: Returns the nth Fibonacci number\n",
      "\n",
      "To employ a tool, use following format:\n",
      "    Action: <tool name>[<tool input>]\n",
      "\n",
      "Note: You MUST use the tool's name (as provided above) in order to use a tool.\n",
      "    \n",
      "Instructions: \n",
      "    1. Think about the problem and how to solve it.\n",
      "    2. Perform an action. You can use one of the tools or return a final response with `RETURN[<final answer>]\n",
      "    3. Observe the result of your action. This will be the output from any tool you used, or the final answer if you returned a final answer.\n",
      "    4. Repeat steps 1-3 until you have a final answer in the observation.\n",
      "\n",
      "Example 1 (no tool needed):\n",
      "    ```\n",
      "    User Input: What is captial of France?\n",
      "    Tools Available: ()\n",
      "    Thought: I know that Paris is the capital of France.\n",
      "    Action: RETURN[Paris]\n",
      "    Observation: Paris\n",
      "    ```\n",
      "\n",
      "Example 2 (tool needed):\n",
      "    In this example, assume that a Weather tool is available.\n",
      "    ```\n",
      "    User Input: What is the weather in Paris?\n",
      "    Tools Available: (Weather)\n",
      "    Thought: I need to use the Weather tool to get the weather in Paris.\n",
      "    Action: Weather[Paris]\n",
      "    Observation: ('city': 'Paris', 'country': 'France', 'temperature': 20, 'weather': 'sunny')\n",
      "    Thought: I now know that it is 20 degrees and sunny in Paris.\n",
      "    Action: RETURN[It is 20 degrees and sunny in Paris]\n",
      "    Observation: It is 20 degrees and sunny in Paris.\n",
      "    ```\n",
      "    Note: the above is just an example. The Weather tool may not actually be available. Only use tools listed in the Tools Avaliable section.\n",
      "\n",
      "Extra notes:\n",
      "If a math or code tool is available, do not do any math yourself. Use Tools to evaluate math expressions.\n",
      "\n",
      "Begin!\n",
      "\n",
      "User Input: What is the weather in Denver?\n",
      "Tools Available: ('Math', 'Fibonacci')\n",
      "Thought:  I need to use a Weather tool to get the weather in Denver.\n",
      "Action:  RETURN[I need to use a Weather tool to get the weather in Denver.]\n",
      "Observation: I need to use a Weather tool to get the weather in Denver.\n"
     ]
    },
    {
     "data": {
      "text/plain": [
       "'I need to use a Weather tool to get the weather in Denver.'"
      ]
     },
     "execution_count": 2,
     "metadata": {},
     "output_type": "execute_result"
    }
   ],
   "source": [
    "from hodja import Chain\n",
    "from hodja.links.react import ReACTLink\n",
    "from hodja.tools.math import MathTool, FibonacciTool\n",
    "tools = [MathTool(), FibonacciTool()]\n",
    "links = [ReACTLink(tools=tools)]\n",
    "chain = Chain(\"ReACT\", links=links)\n",
    "chain.run(\"What is the weather in Denver?\", debug=True)"
   ]
  },
  {
   "cell_type": "markdown",
   "metadata": {},
   "source": []
  },
  {
   "cell_type": "code",
   "execution_count": 3,
   "metadata": {},
   "outputs": [
    {
     "name": "stdout",
     "output_type": "stream",
     "text": [
      "89\n"
     ]
    }
   ],
   "source": [
    "fibonacci = FibonacciTool()\n",
    "print(fibonacci.run(10))"
   ]
  },
  {
   "cell_type": "code",
   "execution_count": 3,
   "metadata": {},
   "outputs": [
    {
     "data": {
      "text/plain": [
       "55"
      ]
     },
     "execution_count": 3,
     "metadata": {},
     "output_type": "execute_result"
    }
   ],
   "source": [
    "def _fib(n):\n",
    "    if n <= 1:\n",
    "        return n\n",
    "    else:\n",
    "        return _fib(n-1) + _fib(n-2)\n",
    "    \n",
    "_fib(10)"
   ]
  },
  {
   "cell_type": "code",
   "execution_count": 8,
   "metadata": {},
   "outputs": [
    {
     "data": {
      "text/plain": [
       "-2083"
      ]
     },
     "execution_count": 8,
     "metadata": {},
     "output_type": "execute_result"
    }
   ],
   "source": [
    "6765-8848"
   ]
  },
  {
   "cell_type": "code",
   "execution_count": null,
   "metadata": {},
   "outputs": [],
   "source": []
  }
 ],
 "metadata": {
  "kernelspec": {
   "display_name": "figtree",
   "language": "python",
   "name": "python3"
  },
  "language_info": {
   "codemirror_mode": {
    "name": "ipython",
    "version": 3
   },
   "file_extension": ".py",
   "mimetype": "text/x-python",
   "name": "python",
   "nbconvert_exporter": "python",
   "pygments_lexer": "ipython3",
   "version": "3.9.16"
  },
  "orig_nbformat": 4,
  "vscode": {
   "interpreter": {
    "hash": "9657bc8f40709c3559b5050189d7e1d18b34a1a28bfaa2052e4515a184d87946"
   }
  }
 },
 "nbformat": 4,
 "nbformat_minor": 2
}
